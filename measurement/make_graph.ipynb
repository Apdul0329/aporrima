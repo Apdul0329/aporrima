{
 "cells": [
  {
   "cell_type": "code",
   "execution_count": 1,
   "metadata": {
    "ExecuteTime": {
     "end_time": "2023-05-25T06:09:45.074375900Z",
     "start_time": "2023-05-25T06:09:42.566749100Z"
    },
    "collapsed": true
   },
   "outputs": [],
   "source": [
    "import pandas as pd\n",
    "import matplotlib.pyplot as plt\n",
    "import os\n",
    "\n",
    "plt.rcParams['font.family'] = 'Malgun Gothic'"
   ]
  },
  {
   "cell_type": "code",
   "execution_count": null,
   "metadata": {
    "ExecuteTime": {
     "end_time": "2023-05-25T06:09:45.090182700Z",
     "start_time": "2023-05-25T06:09:45.074375900Z"
    },
    "collapsed": false
   },
   "outputs": [],
   "source": [
    "forders_path = './'\n",
    "forders = os.listdir(forders_path)\n",
    "file_array = []\n",
    "\n",
    "for file in forders:\n",
    "    file_array.append(forders_path+file)\n",
    "\n",
    "os.mkdir('graph')\n",
    "file_array.remove('./make_graph.ipynb')"
   ]
  },
  {
   "cell_type": "code",
   "execution_count": 62,
   "metadata": {
    "ExecuteTime": {
     "end_time": "2023-05-25T08:07:26.783766900Z",
     "start_time": "2023-05-25T08:07:26.766385200Z"
    },
    "collapsed": false
   },
   "outputs": [],
   "source": [
    "def save_graph(file : str):\n",
    "    df = pd.read_csv(file)\n",
    "\n",
    "    cpu_values = df[\"%CPU\"]\n",
    "    mem_values = df[\"%MEM\"]\n",
    "\n",
    "    fig, ax1 = plt.subplots()\n",
    "\n",
    "    cpu_line=ax1.plot(cpu_values, marker=\"o\", label=\"%CPU\")\n",
    "    ax1.set_ylabel(\"%CPU\")\n",
    "    ax1.tick_params(axis=\"y\")\n",
    "\n",
    "    ax2 = ax1.twinx()\n",
    "    mem_line=ax2.plot(mem_values, color='C1', marker=\"o\", label=\"%MEM\")\n",
    "    ax2.set_ylabel(\"%MEM\")\n",
    "    ax2.tick_params(axis=\"y\")\n",
    "\n",
    "    ax1.set_xlabel(\"Time\")\n",
    "    ax1.set_title(file.replace('.csv', '').replace('./', ''))\n",
    "\n",
    "    lines = cpu_line + mem_line\n",
    "    labels = [l.get_label() for l in lines]\n",
    "    ax1.legend(lines, labels, loc=(1.1, 0.9), shadow=True)\n",
    "\n",
    "    plt.savefig('./graph/'+file.replace('csv', 'png'))"
   ]
  },
  {
   "cell_type": "code",
   "execution_count": null,
   "metadata": {
    "ExecuteTime": {
     "end_time": "2023-05-25T08:07:31.178567400Z",
     "start_time": "2023-05-25T08:07:28.938959800Z"
    },
    "collapsed": false
   },
   "outputs": [],
   "source": [
    "for file in file_array:\n",
    "    save_graph(file)"
   ]
  },
  {
   "cell_type": "code",
   "execution_count": null,
   "metadata": {
    "collapsed": false
   },
   "outputs": [],
   "source": []
  }
 ],
 "metadata": {
  "kernelspec": {
   "display_name": "Python 3",
   "language": "python",
   "name": "python3"
  },
  "language_info": {
   "codemirror_mode": {
    "name": "ipython",
    "version": 2
   },
   "file_extension": ".py",
   "mimetype": "text/x-python",
   "name": "python",
   "nbconvert_exporter": "python",
   "pygments_lexer": "ipython2",
   "version": "2.7.6"
  }
 },
 "nbformat": 4,
 "nbformat_minor": 0
}
